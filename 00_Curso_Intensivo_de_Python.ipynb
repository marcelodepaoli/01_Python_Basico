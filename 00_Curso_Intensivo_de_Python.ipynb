{
  "cells": [
    {
      "cell_type": "markdown",
      "metadata": {
        "id": "view-in-github",
        "colab_type": "text"
      },
      "source": [
        "<a href=\"https://colab.research.google.com/github/marcelodepaoli/01_Python_Basico/blob/main/00_Curso_Intensivo_de_Python.ipynb\" target=\"_parent\"><img src=\"https://colab.research.google.com/assets/colab-badge.svg\" alt=\"Open In Colab\"/></a>"
      ]
    },
    {
      "cell_type": "markdown",
      "metadata": {
        "id": "uclaamlQ1Chq"
      },
      "source": [
        "#Curso Intensivo de Python\n",
        "\n",
        "Observe que isso não pretende ser uma visão geral abrangente do Python ou da programação em geral, se você não tem experiência em programação, provavelmente deve fazer algum outro curso.\n",
        "\n",
        "Este notebook irá apenas passar pelos tópicos básicos em ordem:\n",
        "\n",
        "* Tipos de dados\n",
        "    * Numbers\n",
        "    * Strings\n",
        "    * Impressão\n",
        "    * Listas\n",
        "    * Dicionários\n",
        "    * Booleanos\n",
        "    * Tuplas\n",
        "    * Sets\n",
        "* Operadores de comparação\n",
        "* Declarações if, elif, else\n",
        "* Laços for\n",
        "* Laços while\n",
        "* range()\n",
        "* compreensão de list\n",
        "* funções\n",
        "* expressões lambda\n",
        "* map e filter\n",
        "* métodos"
      ]
    },
    {
      "cell_type": "markdown",
      "metadata": {
        "id": "VQ1OxbAl1Chw"
      },
      "source": [
        "##Tipos de dados\n",
        "\n",
        "###Números"
      ]
    },
    {
      "cell_type": "code",
      "execution_count": null,
      "metadata": {
        "id": "nVVwgQaT1Chw"
      },
      "outputs": [],
      "source": []
    },
    {
      "cell_type": "markdown",
      "metadata": {
        "id": "jU_v08Zl1Ch3"
      },
      "source": [
        "###Atribuição de Variável"
      ]
    },
    {
      "cell_type": "code",
      "execution_count": null,
      "metadata": {
        "collapsed": true,
        "id": "X_EZ_pVz1Ch4"
      },
      "outputs": [],
      "source": [
        "#Não pode começar com números ou caracteres especiais\n",
        "name_of_var = 2"
      ]
    },
    {
      "cell_type": "markdown",
      "metadata": {
        "id": "_zJxEYAl1Ch7"
      },
      "source": [
        "### Strings"
      ]
    },
    {
      "cell_type": "code",
      "execution_count": null,
      "metadata": {
        "id": "gUgw2-JL1Ch7"
      },
      "outputs": [],
      "source": []
    },
    {
      "cell_type": "markdown",
      "metadata": {
        "id": "vOfW47UV1Ch8"
      },
      "source": [
        "###Impressão"
      ]
    },
    {
      "cell_type": "code",
      "execution_count": null,
      "metadata": {
        "collapsed": true,
        "id": "z_BbewwK1Ch9"
      },
      "outputs": [],
      "source": []
    },
    {
      "cell_type": "markdown",
      "metadata": {
        "id": "I8Nap9BJ1CiA"
      },
      "source": [
        "###Listas"
      ]
    },
    {
      "cell_type": "code",
      "source": [],
      "metadata": {
        "id": "SJqpHlRmL9Ea"
      },
      "execution_count": null,
      "outputs": []
    },
    {
      "cell_type": "markdown",
      "metadata": {
        "id": "DPuwqvmI1CiE"
      },
      "source": [
        "###Dicionários"
      ]
    },
    {
      "cell_type": "code",
      "execution_count": null,
      "metadata": {
        "id": "QWdc4GoO1CiF"
      },
      "outputs": [],
      "source": []
    },
    {
      "cell_type": "markdown",
      "metadata": {
        "id": "050Xy04-1CiF"
      },
      "source": [
        "###Booleanos"
      ]
    },
    {
      "cell_type": "code",
      "execution_count": null,
      "metadata": {
        "id": "ezZSeNQ-1CiF"
      },
      "outputs": [],
      "source": []
    },
    {
      "cell_type": "markdown",
      "metadata": {
        "id": "9i44Blsa1CiF"
      },
      "source": [
        "###Tuplas "
      ]
    },
    {
      "cell_type": "code",
      "execution_count": null,
      "metadata": {
        "id": "2TaIQWR71CiG"
      },
      "outputs": [],
      "source": []
    },
    {
      "cell_type": "markdown",
      "metadata": {
        "id": "sjA7kl1Z1CiG"
      },
      "source": [
        "###Sets"
      ]
    },
    {
      "cell_type": "code",
      "execution_count": null,
      "metadata": {
        "id": "i7gPqHVM1CiG"
      },
      "outputs": [],
      "source": []
    },
    {
      "cell_type": "markdown",
      "metadata": {
        "id": "U1AY4dh31CiJ"
      },
      "source": [
        "##Operadores de comparação"
      ]
    },
    {
      "cell_type": "code",
      "execution_count": null,
      "metadata": {
        "id": "ZnlyZxZZ1CiM"
      },
      "outputs": [],
      "source": []
    },
    {
      "cell_type": "markdown",
      "metadata": {
        "id": "4Ns8QEdJ1CiM"
      },
      "source": [
        "##Operadores lógicos"
      ]
    },
    {
      "cell_type": "code",
      "source": [],
      "metadata": {
        "id": "hbMDWsgyMKFx"
      },
      "execution_count": null,
      "outputs": []
    },
    {
      "cell_type": "markdown",
      "metadata": {
        "id": "HDbHjAMc1CiN"
      },
      "source": [
        "##Declarações if,elif, else"
      ]
    },
    {
      "cell_type": "code",
      "execution_count": null,
      "metadata": {
        "id": "il02TXJp1CiO"
      },
      "outputs": [],
      "source": []
    },
    {
      "cell_type": "markdown",
      "metadata": {
        "id": "W0LcRhf-1CiO"
      },
      "source": [
        "## Laços for"
      ]
    },
    {
      "cell_type": "code",
      "execution_count": null,
      "metadata": {
        "id": "JRYiVO6t1CiP"
      },
      "outputs": [],
      "source": []
    },
    {
      "cell_type": "markdown",
      "metadata": {
        "id": "LlKAtfUD1CiQ"
      },
      "source": [
        "##Laços while"
      ]
    },
    {
      "cell_type": "code",
      "execution_count": null,
      "metadata": {
        "id": "bPBr5ic01CiQ"
      },
      "outputs": [],
      "source": []
    },
    {
      "cell_type": "markdown",
      "metadata": {
        "id": "NHlgTARe1CiR"
      },
      "source": [
        "## range()"
      ]
    },
    {
      "cell_type": "code",
      "execution_count": null,
      "metadata": {
        "id": "VKLpPpAJ1CiR"
      },
      "outputs": [],
      "source": []
    },
    {
      "cell_type": "markdown",
      "metadata": {
        "id": "ZugXdi-41CiS"
      },
      "source": [
        "##compreensão de list"
      ]
    },
    {
      "cell_type": "code",
      "execution_count": null,
      "metadata": {
        "collapsed": true,
        "id": "8YL83lLs1CiS"
      },
      "outputs": [],
      "source": []
    },
    {
      "cell_type": "markdown",
      "metadata": {
        "id": "Z2TzLQiY1CiT"
      },
      "source": [
        "##funções"
      ]
    },
    {
      "cell_type": "code",
      "execution_count": null,
      "metadata": {
        "collapsed": true,
        "id": "yAa9D32n1CiU"
      },
      "outputs": [],
      "source": []
    },
    {
      "cell_type": "markdown",
      "metadata": {
        "id": "EEVDKBXX1Cia"
      },
      "source": [
        "##expressões lambda"
      ]
    },
    {
      "cell_type": "code",
      "execution_count": null,
      "metadata": {
        "collapsed": true,
        "id": "EsFT-ZMF1Cic"
      },
      "outputs": [],
      "source": []
    },
    {
      "cell_type": "markdown",
      "metadata": {
        "id": "6FPn2az-1Cie"
      },
      "source": [
        "##map e filter"
      ]
    },
    {
      "cell_type": "code",
      "execution_count": null,
      "metadata": {
        "collapsed": true,
        "id": "sGUIQhjn1Cie"
      },
      "outputs": [],
      "source": []
    },
    {
      "cell_type": "markdown",
      "metadata": {
        "id": "xn7GDPd51Cij"
      },
      "source": [
        "##métodos"
      ]
    },
    {
      "cell_type": "code",
      "execution_count": null,
      "metadata": {
        "collapsed": true,
        "id": "VyqoxOjL1Cij"
      },
      "outputs": [],
      "source": []
    }
  ],
  "metadata": {
    "kernelspec": {
      "display_name": "Python 3 (ipykernel)",
      "language": "python",
      "name": "python3"
    },
    "language_info": {
      "codemirror_mode": {
        "name": "ipython",
        "version": 3
      },
      "file_extension": ".py",
      "mimetype": "text/x-python",
      "name": "python",
      "nbconvert_exporter": "python",
      "pygments_lexer": "ipython3",
      "version": "3.9.12"
    },
    "colab": {
      "provenance": [],
      "include_colab_link": true
    }
  },
  "nbformat": 4,
  "nbformat_minor": 0
}