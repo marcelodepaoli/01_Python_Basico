{
  "cells": [
    {
      "cell_type": "markdown",
      "metadata": {
        "id": "view-in-github",
        "colab_type": "text"
      },
      "source": [
        "<a href=\"https://colab.research.google.com/github/marcelodepaoli/01_Python_Basico/blob/main/02_Exerc%C3%ADcios_Curso_Intensivo_de_Python.ipynb\" target=\"_parent\"><img src=\"https://colab.research.google.com/assets/colab-badge.svg\" alt=\"Open In Colab\"/></a>"
      ]
    },
    {
      "cell_type": "markdown",
      "metadata": {
        "id": "2ZD0dD4T4lyn"
      },
      "source": [
        "#03 - Exercícios Curso Intensivo de Python\n",
        "\n",
        "Estes são exercícios opcionais para testar sua compreensão do Python Básico. Se você achar isso extremamente desafiador, provavelmente ainda não está pronto para o restante do curso e não tem experiência de programação suficiente para continuar. Sugiro que você faça outro curso mais voltado para iniciantes completos."
      ]
    },
    {
      "cell_type": "markdown",
      "metadata": {
        "id": "PDEaoYxh4lyq"
      },
      "source": [
        "##Exercícios\n",
        "\n",
        "Responda às perguntas ou conclua as tarefas descritas em negrito abaixo, use o método específico descrito, se aplicável."
      ]
    },
    {
      "cell_type": "markdown",
      "metadata": {
        "id": "eVNwi_1L4lyq"
      },
      "source": [
        "**Quanto é 7 elevado a 4?**"
      ]
    },
    {
      "cell_type": "code",
      "execution_count": null,
      "metadata": {
        "id": "MxaNuJ414lyq"
      },
      "outputs": [],
      "source": []
    },
    {
      "cell_type": "markdown",
      "metadata": {
        "id": "OUyD1Omz4lyr"
      },
      "source": [
        "**Divida esta string:**\n",
        "\n",
        "    s = \"Hi there Sam!\"\n",
        "    \n",
        "**em uma lista.**"
      ]
    },
    {
      "cell_type": "code",
      "execution_count": null,
      "metadata": {
        "id": "ubO5oiZg4lys"
      },
      "outputs": [],
      "source": []
    },
    {
      "cell_type": "markdown",
      "metadata": {
        "id": "5daj87rJ4lys"
      },
      "source": [
        "**Dadas as variáveis:**\n",
        "\n",
        "    planet = \"Earth\"\n",
        "    diameter = 12742\n",
        "\n",
        "**Use .format() para imprimir a seguinte string:**\n",
        "\n",
        "    The diameter of Earth is 12742 kilometers."
      ]
    },
    {
      "cell_type": "code",
      "execution_count": null,
      "metadata": {
        "collapsed": true,
        "id": "ySqr3Zv14lys"
      },
      "outputs": [],
      "source": []
    },
    {
      "cell_type": "markdown",
      "metadata": {
        "id": "m2j3xkWq4lyt"
      },
      "source": [
        "**Dada esta lista aninhada (nested list), use a indexação para pegar a palavra \"hello\"**"
      ]
    },
    {
      "cell_type": "code",
      "execution_count": null,
      "metadata": {
        "collapsed": true,
        "id": "XRxSTE3-4lyt"
      },
      "outputs": [],
      "source": [
        "lst = [1,2,[3,4],[5,[100,200,['hello']],23,11],1,7]"
      ]
    },
    {
      "cell_type": "code",
      "execution_count": null,
      "metadata": {
        "id": "8Np2hGix4lyt"
      },
      "outputs": [],
      "source": []
    },
    {
      "cell_type": "markdown",
      "metadata": {
        "id": "_miAZMDw4lyt"
      },
      "source": [
        "**Dado este dicionário aninhado (nested dictionary), pegue a palavra \"olá\" (isso será chato/complicado)**"
      ]
    },
    {
      "cell_type": "code",
      "execution_count": null,
      "metadata": {
        "id": "qwx76S6V4lyt"
      },
      "outputs": [],
      "source": [
        "d = {'k1':[1,2,3,{'tricky':['oh','man','inception',{'target':[1,2,3,'hello']}]}]}"
      ]
    },
    {
      "cell_type": "code",
      "execution_count": null,
      "metadata": {
        "id": "cpMJE04S4lyu"
      },
      "outputs": [],
      "source": []
    },
    {
      "cell_type": "markdown",
      "metadata": {
        "id": "WmOC5A8L4lyu"
      },
      "source": [
        "**Qual é a principal diferença entre uma tupla e uma lista?**"
      ]
    },
    {
      "cell_type": "code",
      "execution_count": null,
      "metadata": {
        "collapsed": true,
        "id": "S0zqcqeV4lyu"
      },
      "outputs": [],
      "source": []
    },
    {
      "cell_type": "markdown",
      "metadata": {
        "id": "uVrPeF_Q4lyu"
      },
      "source": [
        "**Crie uma função que pegue o domínio do site de email de uma string na forma:**\n",
        "\n",
        "    user@domain.com\n",
        "    \n",
        "**Por exemplo, passar \"usuário@domínio.com\" retornaria: domínio.com**"
      ]
    },
    {
      "cell_type": "code",
      "execution_count": null,
      "metadata": {
        "id": "nYfBgtDK4lyu"
      },
      "outputs": [],
      "source": []
    },
    {
      "cell_type": "markdown",
      "metadata": {
        "id": "gAr8Pdkn4lyv"
      },
      "source": [
        "**Crie uma função básica que retorne True se a palavra 'dog' estiver contida na string de entrada. Não se preocupe com casos extremos, como uma pontuação sendo anexada à palavra dog, mas leve em consideração a capitalização.**"
      ]
    },
    {
      "cell_type": "code",
      "execution_count": null,
      "metadata": {
        "collapsed": true,
        "id": "4zF9uIro4lyv"
      },
      "outputs": [],
      "source": []
    },
    {
      "cell_type": "markdown",
      "metadata": {
        "id": "rGnXeNEY4lyv"
      },
      "source": [
        "**Crie uma função que conte o número de vezes que a palavra \"dog\" ocorre em uma string. Novamente ignore os casos extremos.**"
      ]
    },
    {
      "cell_type": "code",
      "execution_count": null,
      "metadata": {
        "id": "ReK7AFZn4lyv"
      },
      "outputs": [],
      "source": []
    },
    {
      "cell_type": "markdown",
      "metadata": {
        "id": "Lbkq0N0b4lyw"
      },
      "source": [
        "**Use expressões lambda e a função filter() para filtrar palavras de uma lista que não comecem com a letra 's'. Por exemplo:**\n",
        "\n",
        "    seq = ['soup','dog','salad','cat','great']\n",
        "\n",
        "**deve ser filtrado para:**\n",
        "\n",
        "    ['soup','salad']"
      ]
    },
    {
      "cell_type": "code",
      "execution_count": null,
      "metadata": {
        "collapsed": true,
        "id": "4IV5F_Dz4lyw"
      },
      "outputs": [],
      "source": []
    },
    {
      "cell_type": "markdown",
      "metadata": {
        "id": "hz87RbvY4lyw"
      },
      "source": [
        "###Problema final\n",
        "**Você está dirigindo um pouco rápido demais e um policial o para. Escreva uma função para retornar um dos 3 resultados possíveis: \"No ticket\", \"Small ticket\" ou \"Big Ticket\".\n",
        "  Se a sua velocidade for 60 ou menos, o resultado é \"Sem Bilhete\". Se a velocidade estiver entre 61 e 80 inclusive, o resultado é \"Small Ticket\". Se a velocidade for 81 ou mais, o resultado é \"Big Ticket\". A menos que seja seu aniversário (codificado como um valor booleano nos parâmetros da função) -- em seu aniversário, sua velocidade pode ser 5 unidades maior em todos casos. **"
      ]
    },
    {
      "cell_type": "code",
      "execution_count": null,
      "metadata": {
        "collapsed": true,
        "id": "PfNIXXkr4lyw"
      },
      "outputs": [],
      "source": []
    }
  ],
  "metadata": {
    "kernelspec": {
      "display_name": "Python 3",
      "language": "python",
      "name": "python3"
    },
    "language_info": {
      "codemirror_mode": {
        "name": "ipython",
        "version": 3
      },
      "file_extension": ".py",
      "mimetype": "text/x-python",
      "name": "python",
      "nbconvert_exporter": "python",
      "pygments_lexer": "ipython3",
      "version": "3.6.2"
    },
    "colab": {
      "provenance": [],
      "collapsed_sections": [],
      "include_colab_link": true
    }
  },
  "nbformat": 4,
  "nbformat_minor": 0
}